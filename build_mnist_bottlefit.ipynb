{
 "cells": [
  {
   "cell_type": "code",
   "execution_count": 1,
   "id": "e9ce5183",
   "metadata": {},
   "outputs": [],
   "source": [
    "import copy\n",
    "import torch\n",
    "import torch.nn as nn\n",
    "from torch.utils.data import DataLoader\n",
    "from mnist_cnn import MNIST\n",
    "from model_splitting import split_model\n",
    "from lat_acc_test_funcs import eval_accuracy\n",
    "from bottlefit_injection import bottlefit_bottleneck, stage1_training, stage2_training"
   ]
  },
  {
   "cell_type": "code",
   "execution_count": 2,
   "id": "098d35a1",
   "metadata": {},
   "outputs": [],
   "source": [
    "trainset, _, testset = MNIST()\n",
    "trainloader = DataLoader(trainset, batch_size=64, shuffle=True)\n",
    "testloader = DataLoader(testset, batch_size=1, shuffle=False)"
   ]
  },
  {
   "cell_type": "code",
   "execution_count": 3,
   "id": "6c070cc4",
   "metadata": {},
   "outputs": [],
   "source": [
    "model = torch.load('models/MNIST_CNN.pt', weights_only=False)\n",
    "t_head, t_tail = split_model(model, 6)\n",
    "s_head, s_tail = copy.deepcopy(t_head), copy.deepcopy(t_tail)"
   ]
  },
  {
   "cell_type": "code",
   "execution_count": 4,
   "id": "a0c24f2a",
   "metadata": {},
   "outputs": [
    {
     "data": {
      "text/plain": [
       "[Flatten(start_dim=1, end_dim=-1),\n",
       " Linear(in_features=3136, out_features=128, bias=True),\n",
       " ReLU(),\n",
       " Linear(in_features=128, out_features=10, bias=True)]"
      ]
     },
     "execution_count": 4,
     "metadata": {},
     "output_type": "execute_result"
    }
   ],
   "source": [
    "list(t_tail.children())"
   ]
  },
  {
   "cell_type": "code",
   "execution_count": 5,
   "id": "604689c8",
   "metadata": {},
   "outputs": [],
   "source": [
    "s_encoder = nn.Sequential(\n",
    "    nn.Conv2d(1, 32, kernel_size=3, stride=1, padding=1),\n",
    "    nn.ReLU(),\n",
    "    nn.Conv2d(32, 4, kernel_size=3, stride=2, padding=1),\n",
    "    nn.ReLU(),\n",
    "    nn.MaxPool2d(2, 2)\n",
    ")\n",
    "\n",
    "s_decoder = nn.Sequential(\n",
    "    nn.ConvTranspose2d(4, 64, kernel_size=3, stride=2, padding=1, output_padding=1),\n",
    "    nn.ReLU(),\n",
    "    nn.MaxPool2d(2, 2)\n",
    ")"
   ]
  },
  {
   "cell_type": "code",
   "execution_count": 6,
   "id": "e125f539",
   "metadata": {},
   "outputs": [],
   "source": [
    "student = bottlefit_bottleneck(s_encoder, s_decoder, s_tail)"
   ]
  },
  {
   "cell_type": "code",
   "execution_count": 7,
   "id": "b5f540be",
   "metadata": {},
   "outputs": [
    {
     "name": "stdout",
     "output_type": "stream",
     "text": [
      "Epoch 1 - Loss: 27.3761\n",
      "Epoch 2 - Loss: 7.5373\n",
      "Epoch 3 - Loss: 6.5751\n",
      "Epoch 4 - Loss: 6.1018\n",
      "Epoch 5 - Loss: 5.7762\n",
      "Epoch 6 - Loss: 5.5314\n",
      "Epoch 7 - Loss: 5.3486\n",
      "Epoch 8 - Loss: 5.2069\n",
      "Epoch 9 - Loss: 5.0952\n",
      "Epoch 10 - Loss: 4.9943\n",
      "Epoch 1 - Loss: 0.0550\n",
      "Epoch 2 - Loss: 0.0338\n",
      "Epoch 3 - Loss: 0.0287\n",
      "Epoch 4 - Loss: 0.0250\n",
      "Epoch 5 - Loss: 0.0246\n"
     ]
    }
   ],
   "source": [
    "stage1_training(t_head, t_tail, student, trainloader, quiet=False)\n",
    "stage2_training(model, student, trainloader, epochs=5, freeze_encoder=True, quiet=False)"
   ]
  },
  {
   "cell_type": "code",
   "execution_count": 8,
   "id": "5024ccfa",
   "metadata": {},
   "outputs": [
    {
     "name": "stdout",
     "output_type": "stream",
     "text": [
      "Accuracy: 99.16%\n",
      "Latency: 0.005288\n",
      "Transmission Size: 784.0 bytes\n"
     ]
    }
   ],
   "source": [
    "eval_accuracy(student, testloader, quiet=False)\n",
    "print(f\"Latency: {student.get_avg_inference_time():.4}\")\n",
    "print(f\"Transmission Size: {student.get_avg_transmission_sizes()} bytes\")\n",
    "student.clear_stats()"
   ]
  },
  {
   "cell_type": "code",
   "execution_count": 9,
   "id": "4713b54f",
   "metadata": {},
   "outputs": [],
   "source": [
    "torch.save(student, './models/MNIST_Bottlefit.pt')"
   ]
  }
 ],
 "metadata": {
  "kernelspec": {
   "display_name": "Python (venv)",
   "language": "python",
   "name": "venv"
  },
  "language_info": {
   "codemirror_mode": {
    "name": "ipython",
    "version": 3
   },
   "file_extension": ".py",
   "mimetype": "text/x-python",
   "name": "python",
   "nbconvert_exporter": "python",
   "pygments_lexer": "ipython3",
   "version": "3.10.18"
  }
 },
 "nbformat": 4,
 "nbformat_minor": 5
}
