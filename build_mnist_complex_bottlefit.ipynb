{
 "cells": [
  {
   "cell_type": "code",
   "execution_count": 1,
   "id": "e9ce5183",
   "metadata": {},
   "outputs": [],
   "source": [
    "import copy\n",
    "import torch\n",
    "import torch.nn as nn\n",
    "from torch.utils.data import DataLoader\n",
    "from mnist_cnn import MNIST\n",
    "from model_splitting import split_model\n",
    "from lat_acc_test_funcs import eval_accuracy\n",
    "from bottlefit_injection import bottlefit_bottleneck, stage1_training, stage2_training"
   ]
  },
  {
   "cell_type": "code",
   "execution_count": 2,
   "id": "098d35a1",
   "metadata": {},
   "outputs": [],
   "source": [
    "trainset, _, testset = MNIST()\n",
    "trainloader = DataLoader(trainset, batch_size=64, shuffle=True)\n",
    "testloader = DataLoader(testset, batch_size=1, shuffle=False)"
   ]
  },
  {
   "cell_type": "code",
   "execution_count": 3,
   "id": "6c070cc4",
   "metadata": {},
   "outputs": [],
   "source": [
    "model = torch.load('models/MNIST_CNN_Complex.pt', weights_only=False)\n",
    "t_head, t_tail = split_model(model, 10)\n",
    "s_tail = copy.deepcopy(t_tail)"
   ]
  },
  {
   "cell_type": "code",
   "execution_count": 4,
   "id": "6f4915f6",
   "metadata": {},
   "outputs": [
    {
     "data": {
      "text/plain": [
       "([Conv2d(1, 32, kernel_size=(3, 3), stride=(1, 1), padding=(1, 1)),\n",
       "  ReLU(),\n",
       "  Conv2d(32, 32, kernel_size=(3, 3), stride=(1, 1), padding=(1, 1)),\n",
       "  ReLU(),\n",
       "  MaxPool2d(kernel_size=2, stride=2, padding=0, dilation=1, ceil_mode=False),\n",
       "  Conv2d(32, 64, kernel_size=(3, 3), stride=(1, 1), padding=(1, 1)),\n",
       "  ReLU(),\n",
       "  Conv2d(64, 64, kernel_size=(3, 3), stride=(1, 1), padding=(1, 1)),\n",
       "  ReLU(),\n",
       "  MaxPool2d(kernel_size=2, stride=2, padding=0, dilation=1, ceil_mode=False)],\n",
       " [Conv2d(64, 128, kernel_size=(3, 3), stride=(1, 1), padding=(1, 1)),\n",
       "  ReLU(),\n",
       "  Conv2d(128, 128, kernel_size=(3, 3), stride=(1, 1), padding=(1, 1)),\n",
       "  ReLU(),\n",
       "  Flatten(start_dim=1, end_dim=-1),\n",
       "  Linear(in_features=6272, out_features=512, bias=True),\n",
       "  ReLU(),\n",
       "  Linear(in_features=512, out_features=256, bias=True),\n",
       "  ReLU(),\n",
       "  Linear(in_features=256, out_features=128, bias=True),\n",
       "  ReLU(),\n",
       "  Linear(in_features=128, out_features=10, bias=True)])"
      ]
     },
     "execution_count": 4,
     "metadata": {},
     "output_type": "execute_result"
    }
   ],
   "source": [
    "list(t_head.children()), list(t_tail.children())"
   ]
  },
  {
   "cell_type": "code",
   "execution_count": 5,
   "id": "1fa57115",
   "metadata": {},
   "outputs": [],
   "source": [
    "s_encoder = nn.Sequential(\n",
    "    nn.Conv2d(1, 32, kernel_size=3, stride=1, padding=1),\n",
    "    nn.ReLU(),\n",
    "    nn.Conv2d(32, 64, kernel_size=3, stride=1, padding=1),\n",
    "    nn.ReLU(),\n",
    "    nn.MaxPool2d(2, 2),\n",
    "    nn.Conv2d(64, 4, kernel_size=3, stride=1, padding=1),\n",
    "    nn.ReLU(),\n",
    ")\n",
    "\n",
    "s_decoder = nn.Sequential(\n",
    "    nn.ConvTranspose2d(4, 64, kernel_size=3, stride=1, padding=1),\n",
    "    nn.ReLU(),\n",
    "    nn.MaxPool2d(2, 2)\n",
    ")"
   ]
  },
  {
   "cell_type": "code",
   "execution_count": 6,
   "id": "621f57f7",
   "metadata": {},
   "outputs": [],
   "source": [
    "student = bottlefit_bottleneck(s_encoder, s_decoder, s_tail)"
   ]
  },
  {
   "cell_type": "code",
   "execution_count": 7,
   "id": "b5f540be",
   "metadata": {},
   "outputs": [
    {
     "name": "stdout",
     "output_type": "stream",
     "text": [
      "Epoch 1 - Loss: 76.2666\n",
      "Epoch 2 - Loss: 10.2871\n",
      "Epoch 3 - Loss: 8.1554\n",
      "Epoch 4 - Loss: 7.0989\n",
      "Epoch 5 - Loss: 6.3692\n",
      "Epoch 6 - Loss: 5.8201\n",
      "Epoch 7 - Loss: 5.6496\n",
      "Epoch 8 - Loss: 5.2469\n",
      "Epoch 9 - Loss: 5.0460\n",
      "Epoch 10 - Loss: 4.8709\n",
      "Epoch 1 - Loss: 0.0345\n",
      "Epoch 2 - Loss: 0.0238\n",
      "Epoch 3 - Loss: 0.0189\n",
      "Epoch 4 - Loss: 0.0229\n",
      "Epoch 5 - Loss: 0.0182\n"
     ]
    }
   ],
   "source": [
    "stage1_training(t_head, t_tail,student, trainloader, quiet=False)\n",
    "stage2_training(model, student, trainloader, epochs=5, freeze_encoder=True, quiet=False)"
   ]
  },
  {
   "cell_type": "code",
   "execution_count": 8,
   "id": "d26ffbf7",
   "metadata": {},
   "outputs": [
    {
     "name": "stdout",
     "output_type": "stream",
     "text": [
      "Accuracy: 99.50%\n",
      "Latency: 0.006618\n",
      "Transmission Size: 3136.0 bytes\n"
     ]
    }
   ],
   "source": [
    "eval_accuracy(student, testloader, quiet=False)\n",
    "print(f\"Latency: {student.get_avg_inference_time():.4}\")\n",
    "print(f\"Transmission Size: {student.get_avg_transmission_sizes()} bytes\")\n",
    "student.clear_stats()"
   ]
  },
  {
   "cell_type": "code",
   "execution_count": 9,
   "id": "4713b54f",
   "metadata": {},
   "outputs": [],
   "source": [
    "torch.save(student, './models/MNIST_Complex_Bottlefit.pt')"
   ]
  }
 ],
 "metadata": {
  "kernelspec": {
   "display_name": "Python (venv)",
   "language": "python",
   "name": "venv"
  },
  "language_info": {
   "codemirror_mode": {
    "name": "ipython",
    "version": 3
   },
   "file_extension": ".py",
   "mimetype": "text/x-python",
   "name": "python",
   "nbconvert_exporter": "python",
   "pygments_lexer": "ipython3",
   "version": "3.10.18"
  }
 },
 "nbformat": 4,
 "nbformat_minor": 5
}
