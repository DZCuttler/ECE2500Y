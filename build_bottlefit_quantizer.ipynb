{
 "cells": [
  {
   "cell_type": "code",
   "execution_count": null,
   "id": "e9b400d4",
   "metadata": {},
   "outputs": [],
   "source": [
    "import copy\n",
    "import torch\n",
    "import torch.nn as nn\n",
    "from torch.utils.data import DataLoader\n",
    "from mnist_cnn import MNIST\n",
    "from model_splitting import split_model\n",
    "from lat_acc_test_funcs import eval_accuracy\n",
    "from bottlefit_quantizer import bottlefit_quantizer, stage1_training, stage2_training"
   ]
  },
  {
   "cell_type": "code",
   "execution_count": 2,
   "id": "c4f84d6d",
   "metadata": {},
   "outputs": [],
   "source": [
    "trainset, _, testset = MNIST()\n",
    "trainloader = DataLoader(trainset, batch_size=64, shuffle=True)\n",
    "testloader = DataLoader(testset, batch_size=1, shuffle=False)"
   ]
  },
  {
   "cell_type": "code",
   "execution_count": 3,
   "id": "bedfa8ea",
   "metadata": {},
   "outputs": [],
   "source": [
    "model = torch.load('models/MNIST_CNN.pt', weights_only=False)\n",
    "t_head, t_tail = split_model(model, 6)\n",
    "s_head, s_tail = copy.deepcopy(t_head), copy.deepcopy(t_tail)"
   ]
  },
  {
   "cell_type": "code",
   "execution_count": 4,
   "id": "4f52b1bd",
   "metadata": {},
   "outputs": [
    {
     "data": {
      "text/plain": [
       "[Flatten(start_dim=1, end_dim=-1),\n",
       " Linear(in_features=3136, out_features=128, bias=True),\n",
       " ReLU(),\n",
       " Linear(in_features=128, out_features=10, bias=True)]"
      ]
     },
     "execution_count": 4,
     "metadata": {},
     "output_type": "execute_result"
    }
   ],
   "source": [
    "list(t_tail.children())"
   ]
  },
  {
   "cell_type": "code",
   "execution_count": 5,
   "id": "806e045f",
   "metadata": {},
   "outputs": [],
   "source": [
    "s_encoder = nn.Sequential(\n",
    "    nn.Conv2d(1, 32, kernel_size=3, stride=1, padding=1),\n",
    "    nn.ReLU(),\n",
    "    nn.Conv2d(32, 4, kernel_size=3, stride=2, padding=1),\n",
    "    nn.Sigmoid(),\n",
    "    nn.MaxPool2d(2, 2)\n",
    ")\n",
    "\n",
    "s_decoder = nn.Sequential(\n",
    "    nn.Upsample(scale_factor=2, mode='nearest'),\n",
    "    nn.Conv2d(4, 64, kernel_size=3, padding=1),\n",
    "    nn.ReLU(),\n",
    "    nn.MaxPool2d(2, 2)\n",
    ")"
   ]
  },
  {
   "cell_type": "code",
   "execution_count": null,
   "id": "79e8da5d",
   "metadata": {},
   "outputs": [],
   "source": [
    "student = bottlefit_quantizer(s_encoder, s_decoder, s_tail)"
   ]
  },
  {
   "cell_type": "code",
   "execution_count": 7,
   "id": "cb92f787",
   "metadata": {},
   "outputs": [
    {
     "name": "stdout",
     "output_type": "stream",
     "text": [
      "Epoch 1 - Loss: 48.2563\n",
      "Epoch 2 - Loss: 14.4717\n",
      "Epoch 3 - Loss: 10.7037\n",
      "Epoch 4 - Loss: 8.9590\n",
      "Epoch 5 - Loss: 7.9502\n",
      "Epoch 6 - Loss: 7.2553\n",
      "Epoch 7 - Loss: 6.7862\n",
      "Epoch 8 - Loss: 6.4352\n",
      "Epoch 9 - Loss: 6.1721\n",
      "Epoch 10 - Loss: 5.9632\n",
      "Epoch 1 - Loss: 0.0563\n",
      "Epoch 2 - Loss: 0.0387\n",
      "Epoch 3 - Loss: 0.0309\n",
      "Epoch 4 - Loss: 0.0278\n",
      "Epoch 5 - Loss: 0.0245\n"
     ]
    }
   ],
   "source": [
    "stage1_training(t_head, t_tail, student, trainloader, quiet=False)\n",
    "stage2_training(model, student, trainloader, epochs=5, freeze_encoder=True, quiet=False)"
   ]
  },
  {
   "cell_type": "code",
   "execution_count": 8,
   "id": "da9a1186",
   "metadata": {},
   "outputs": [
    {
     "name": "stdout",
     "output_type": "stream",
     "text": [
      "Accuracy: 99.22%\n",
      "Latency: 0.006367\n",
      "Transmission Size: 784.0 bytes\n"
     ]
    }
   ],
   "source": [
    "eval_accuracy(student, testloader, quiet=False)\n",
    "print(f\"Latency: {student.get_avg_inference_time():.4}\")\n",
    "print(f\"Transmission Size: {student.get_avg_transmission_sizes()} bytes\")\n",
    "student.clear_stats()"
   ]
  },
  {
   "cell_type": "code",
   "execution_count": 9,
   "id": "0fd1ee9f",
   "metadata": {},
   "outputs": [
    {
     "name": "stdout",
     "output_type": "stream",
     "text": [
      "tensor([1, 0, 1, 1, 1, 0, 1, 1, 1, 0, 1, 1, 1, 0, 1, 1, 1, 0, 1, 1, 1, 0, 1, 1,\n",
      "        1, 0, 1, 1, 1, 0, 1, 1, 1, 0, 1, 1, 1, 0, 1, 1, 1, 0, 1, 1, 1, 0, 1, 1,\n",
      "        1, 0, 1, 1, 1, 0, 1, 1, 1, 0, 1, 1], dtype=torch.uint8)\n",
      "torch.Size([60])\n"
     ]
    },
    {
     "name": "stderr",
     "output_type": "stream",
     "text": [
      "/var/folders/sg/4xg7l9z52tbcsd137v_7svh00000gn/T/ipykernel_10528/26922348.py:10: UserWarning: To copy construct from a tensor, it is recommended to use sourceTensor.detach().clone() or sourceTensor.detach().clone().requires_grad_(True), rather than torch.tensor(sourceTensor).\n",
      "  y = torch.tensor(y)\n"
     ]
    },
    {
     "data": {
      "text/plain": [
       "60"
      ]
     },
     "execution_count": 9,
     "metadata": {},
     "output_type": "execute_result"
    }
   ],
   "source": [
    "from bottlefit_quantizer import Quantizer\n",
    "quantizer = Quantizer(4)\n",
    "\n",
    "c = torch.full((5,3), 5)\n",
    "\n",
    "y = quantizer.quantize(c)\n",
    "print(y)\n",
    "print(y.shape)\n",
    "\n",
    "y = torch.tensor(y)\n",
    "\n",
    "y.element_size() * y.nelement()"
   ]
  },
  {
   "cell_type": "code",
   "execution_count": 10,
   "id": "d013a2b8",
   "metadata": {},
   "outputs": [
    {
     "data": {
      "text/plain": [
       "1"
      ]
     },
     "execution_count": 10,
     "metadata": {},
     "output_type": "execute_result"
    }
   ],
   "source": [
    "y.element_size()"
   ]
  },
  {
   "cell_type": "code",
   "execution_count": 11,
   "id": "7b025bb7",
   "metadata": {},
   "outputs": [
    {
     "data": {
      "text/plain": [
       "60"
      ]
     },
     "execution_count": 11,
     "metadata": {},
     "output_type": "execute_result"
    }
   ],
   "source": [
    "y.nelement()"
   ]
  },
  {
   "cell_type": "code",
   "execution_count": 12,
   "id": "9fc7fa4c",
   "metadata": {},
   "outputs": [
    {
     "data": {
      "text/plain": [
       "60"
      ]
     },
     "execution_count": 12,
     "metadata": {},
     "output_type": "execute_result"
    }
   ],
   "source": [
    "len(y)"
   ]
  }
 ],
 "metadata": {
  "kernelspec": {
   "display_name": "venv",
   "language": "python",
   "name": "venv"
  },
  "language_info": {
   "codemirror_mode": {
    "name": "ipython",
    "version": 3
   },
   "file_extension": ".py",
   "mimetype": "text/x-python",
   "name": "python",
   "nbconvert_exporter": "python",
   "pygments_lexer": "ipython3",
   "version": "3.10.17"
  }
 },
 "nbformat": 4,
 "nbformat_minor": 5
}
