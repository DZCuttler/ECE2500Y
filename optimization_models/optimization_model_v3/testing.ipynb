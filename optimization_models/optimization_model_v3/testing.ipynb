{
 "cells": [
  {
   "cell_type": "code",
   "execution_count": 3,
   "id": "42f3833b",
   "metadata": {},
   "outputs": [],
   "source": [
    "import sys\n",
    "from pathlib import Path\n",
    "project_root = Path('testing.ipynb').resolve().parents[2]\n",
    "sys.path.append(str(project_root))"
   ]
  },
  {
   "cell_type": "code",
   "execution_count": 7,
   "id": "263c35ae",
   "metadata": {},
   "outputs": [],
   "source": [
    "from mnistfnn_EE import MNISTFNN_EE\n",
    "from optimization_models.model_consts import RunType"
   ]
  },
  {
   "cell_type": "code",
   "execution_count": 11,
   "id": "88c6bbe5",
   "metadata": {},
   "outputs": [],
   "source": [
    "model = MNISTFNN_EE([],[],[],16,RunType.EDGE_COMPUTING, branchpoint=0)"
   ]
  },
  {
   "cell_type": "code",
   "execution_count": 12,
   "id": "5408f522",
   "metadata": {},
   "outputs": [
    {
     "name": "stdout",
     "output_type": "stream",
     "text": [
      "Epoch 1 - Loss: 0.3930\n",
      "Epoch 2 - Loss: 0.2936\n",
      "Epoch 3 - Loss: 0.2824\n",
      "Epoch 4 - Loss: 0.2757\n",
      "Epoch 5 - Loss: 0.2725\n"
     ]
    }
   ],
   "source": [
    "model.train_model(w=0.5, quiet=False)"
   ]
  },
  {
   "cell_type": "code",
   "execution_count": 13,
   "id": "f6950ede",
   "metadata": {},
   "outputs": [
    {
     "data": {
      "text/plain": [
       "(92.2, 2.720724545419216, 92.18, 2.719777137041092)"
      ]
     },
     "execution_count": 13,
     "metadata": {},
     "output_type": "execute_result"
    }
   ],
   "source": [
    "model.test_model()"
   ]
  },
  {
   "cell_type": "code",
   "execution_count": 15,
   "id": "fca0e397",
   "metadata": {},
   "outputs": [
    {
     "name": "stdout",
     "output_type": "stream",
     "text": [
      "BRANCH -> 784 -> 10\n",
      "   \\--> 784 -> 10\n"
     ]
    }
   ],
   "source": [
    "print(model)"
   ]
  }
 ],
 "metadata": {
  "kernelspec": {
   "display_name": "Python (venv)",
   "language": "python",
   "name": "venv"
  },
  "language_info": {
   "codemirror_mode": {
    "name": "ipython",
    "version": 3
   },
   "file_extension": ".py",
   "mimetype": "text/x-python",
   "name": "python",
   "nbconvert_exporter": "python",
   "pygments_lexer": "ipython3",
   "version": "3.10.18"
  }
 },
 "nbformat": 4,
 "nbformat_minor": 5
}
